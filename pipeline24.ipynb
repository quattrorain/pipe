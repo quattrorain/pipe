{
  "nbformat": 4,
  "nbformat_minor": 0,
  "metadata": {
    "colab": {
      "provenance": []
    },
    "kernelspec": {
      "name": "python3",
      "display_name": "Python 3"
    },
    "language_info": {
      "name": "python"
    }
  },
  "cells": [
    {
      "cell_type": "code",
      "execution_count": null,
      "metadata": {
        "colab": {
          "base_uri": "https://localhost:8080/"
        },
        "id": "4ePfcYMuzrth",
        "outputId": "daa87246-e8bd-4e99-a8eb-19fc6f5a8440"
      },
      "outputs": [
        {
          "output_type": "stream",
          "name": "stdout",
          "text": [
            "Сreate a pipline\n"
          ]
        }
      ],
      "source": [
        "print(\"Сreate a pipline\")"
      ]
    },
    {
      "cell_type": "code",
      "source": [
        "print(\"Сreate a second pipline\")"
      ],
      "metadata": {
        "colab": {
          "base_uri": "https://localhost:8080/"
        },
        "id": "9PYvBoTFxyF_",
        "outputId": "4cc2595b-62a4-4592-ecda-012bad9fb727"
      },
      "execution_count": 3,
      "outputs": [
        {
          "output_type": "stream",
          "name": "stdout",
          "text": [
            "Сreate a second pipline\n"
          ]
        }
      ]
    }
  ]
}